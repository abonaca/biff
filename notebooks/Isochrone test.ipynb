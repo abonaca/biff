{
 "cells": [
  {
   "cell_type": "code",
   "execution_count": null,
   "metadata": {
    "collapsed": true
   },
   "outputs": [],
   "source": [
    "from __future__ import division, print_function\n",
    "\n",
    "# Std lib\n",
    "import sys\n",
    "path = \"/Users/adrian/projects/biff/build/lib.macosx-10.5-x86_64-2.7/\"\n",
    "if path not in sys.path:\n",
    "    sys.path.append(path)\n",
    "\n",
    "# Third-party\n",
    "import astropy.units as u\n",
    "from astropy.constants import G as _G\n",
    "import h5py\n",
    "import matplotlib as mpl\n",
    "import matplotlib.pyplot as pl\n",
    "import numpy as np\n",
    "%matplotlib inline\n",
    "fromgala.units import galactic\n",
    "importgala.potential as gp\n",
    "\n",
    "import biff\n",
    "G = _G.decompose(galactic).value"
   ]
  },
  {
   "cell_type": "code",
   "execution_count": null,
   "metadata": {
    "collapsed": true
   },
   "outputs": [],
   "source": [
    "def _isochrone_density(x, y, z, args):\n",
    "    \"\"\"\n",
    "    .. warning::\n",
    "\n",
    "        THIS IS AN INTERNAL FUNCTION -- USE ``plummer_density()`` INSTEAD.\n",
    "\n",
    "    \"\"\"\n",
    "    M,r_s = args\n",
    "    r2 = x*x + y*y + z*z\n",
    "    a = np.sqrt(r_s**2 + r2)\n",
    "    return M*(3*(r_s + a)*a**2 - r2*(r_s+3*a))/(4*np.pi*(r_s+a)**3*a**3)\n",
    "\n",
    "def isochrone_density(xyz, M, r_s):\n",
    "    \"\"\"\n",
    "    Compute the density from a Plummer sphere.\n",
    "\n",
    "    Parameters\n",
    "    ----------\n",
    "    \"\"\"\n",
    "    x,y,z = np.atleast_2d(xyz).T\n",
    "    return _isochrone_density(x,y,z,args=(M,r_s))\n",
    "\n",
    "_density = _isochrone_density"
   ]
  },
  {
   "cell_type": "code",
   "execution_count": null,
   "metadata": {
    "collapsed": false
   },
   "outputs": [],
   "source": [
    "true_M = 1/G\n",
    "true_r_s = 1.\n",
    "\n",
    "x = np.logspace(-2,1,512)\n",
    "xyz = np.zeros((len(x),3))\n",
    "xyz[:,0] = x\n",
    "true_dens = isochrone_density(xyz, true_M, true_r_s)\n",
    "true_pot = gp.IsochronePotential(m=true_M, b=true_r_s, units=galactic).value(xyz)\n",
    "true_grad = gp.IsochronePotential(m=true_M, b=true_r_s, units=galactic).gradient(xyz)"
   ]
  },
  {
   "cell_type": "code",
   "execution_count": null,
   "metadata": {
    "collapsed": false
   },
   "outputs": [],
   "source": [
    "nmax = 16\n",
    "lmax = 0\n",
    "\n",
    "Snlm = np.zeros((nmax+1,lmax+1,lmax+1))\n",
    "Serr = np.zeros((nmax+1,lmax+1,lmax+1))\n",
    "Tnlm = np.zeros((nmax+1,lmax+1,lmax+1))\n",
    "Terr = np.zeros((nmax+1,lmax+1,lmax+1))\n",
    "\n",
    "nlms = []\n",
    "for n in range(nmax+1):\n",
    "    for l in range(lmax+1):\n",
    "        for m in range(l+1):\n",
    "            nlms.append([n,l,m])\n",
    "       \n",
    "for nlm in nlms:\n",
    "    n,l,m = nlm\n",
    "    print(n,l,m)\n",
    "    (S,S_err),(T,T_err) = biff.compute_coeffs(_density, nlm=nlm, \n",
    "                                              M=true_M, r_s=true_r_s, args=(true_M,true_r_s),\n",
    "                                              epsrel=1E-9)\n",
    "    Snlm[n,l,m] = S\n",
    "    Serr[n,l,m] = S_err\n",
    "    Tnlm[n,l,m] = T\n",
    "    Terr[n,l,m] = T_err\n",
    "        \n",
    "# OR: load from file..\n",
    "# with h5py.File(\"/Users/adrian/projects/ophiuchus/data/Anlm_plummer.h5\") as f:\n",
    "#     nmax = f['nlm'].attrs['nmax']\n",
    "#     lmax = f['nlm'].attrs['lmax']\n",
    "#     nlm = np.array(f['nlm'])\n",
    "#     _Anlm = np.array(f['Anlm'])\n",
    "#     Anlm_err = np.array(f['Anlm_err'])\n",
    "    \n",
    "#     ix = np.abs(_Anlm) > np.abs(Anlm_err)\n",
    "#     nlm = nlm[ix]\n",
    "#     _Anlm = _Anlm[ix]\n",
    "\n",
    "# Anlm = np.zeros((nmax+1, lmax+1, lmax+1))\n",
    "# for (n,l,m),A in zip(nlm, _Anlm):\n",
    "#     Anlm[n,l,m] = A"
   ]
  },
  {
   "cell_type": "code",
   "execution_count": null,
   "metadata": {
    "collapsed": false
   },
   "outputs": [],
   "source": [
    "pl.semilogy(np.array(nlms), np.abs(Snlm.flat/Snlm[0,0,0]))\n",
    "pl.xlim(0,10)\n",
    "pl.ylim(1E-6, 1)"
   ]
  },
  {
   "cell_type": "code",
   "execution_count": null,
   "metadata": {
    "collapsed": false
   },
   "outputs": [],
   "source": [
    "bfe_dens = biff.density(xyz, true_M, true_r_s, Snlm, Tnlm, nmax, lmax)\n",
    "bfe_pot = biff.potential(xyz, G, true_M, true_r_s, Snlm, Tnlm, nmax, lmax)\n",
    "bfe_grad = biff.gradient(xyz, G, true_M, true_r_s, Snlm, Tnlm, nmax, lmax)"
   ]
  },
  {
   "cell_type": "code",
   "execution_count": null,
   "metadata": {
    "collapsed": false
   },
   "outputs": [],
   "source": [
    "fig,axes = pl.subplots(3, 1, figsize=(8,10), sharex=True)\n",
    "\n",
    "axes[0].set_ylabel(r'$\\rho$')\n",
    "axes[0].loglog(x, true_dens, marker=None)\n",
    "axes[0].loglog(x, bfe_dens, marker=None)\n",
    "\n",
    "axes[1].set_ylabel(r'$\\Phi$')\n",
    "axes[1].semilogx(x, true_pot, marker=None)\n",
    "axes[1].semilogx(x, bfe_pot, marker=None)\n",
    "\n",
    "axes[2].set_ylabel(r'${\\rm d}\\Phi/{\\rm d}x$')\n",
    "axes[2].semilogx(x, true_grad[:,0], marker=None)\n",
    "axes[2].semilogx(x, bfe_grad[:,0], marker=None)\n",
    "\n",
    "fig.tight_layout()"
   ]
  },
  {
   "cell_type": "code",
   "execution_count": null,
   "metadata": {
    "collapsed": false
   },
   "outputs": [],
   "source": [
    "fig,axes = pl.subplots(3, 1, figsize=(8,10), sharey=True)\n",
    "\n",
    "axes[0].set_ylabel(r'$\\rho$')\n",
    "axes[0].loglog(x, np.abs((true_dens-bfe_dens)/true_dens), marker=None)\n",
    "\n",
    "axes[1].set_ylabel(r'$\\Phi$')\n",
    "axes[1].loglog(x, np.abs((true_pot-bfe_pot)/true_pot), marker=None)\n",
    "\n",
    "axes[2].set_ylabel(r'${\\rm d}\\Phi/{\\rm d}x$')\n",
    "axes[2].loglog(x, np.abs((true_grad[:,0]-bfe_grad[:,0])/true_grad[:,0]), marker=None)\n",
    "\n",
    "axes[0].set_ylim(1E-12, 1E0)\n",
    "fig.tight_layout()"
   ]
  },
  {
   "cell_type": "code",
   "execution_count": null,
   "metadata": {
    "collapsed": true
   },
   "outputs": [],
   "source": []
  }
 ],
 "metadata": {
  "kernelspec": {
   "display_name": "Python 2",
   "language": "python",
   "name": "python2"
  },
  "language_info": {
   "codemirror_mode": {
    "name": "ipython",
    "version": 2
   },
   "file_extension": ".py",
   "mimetype": "text/x-python",
   "name": "python",
   "nbconvert_exporter": "python",
   "pygments_lexer": "ipython2",
   "version": "2.7.10"
  }
 },
 "nbformat": 4,
 "nbformat_minor": 0
}